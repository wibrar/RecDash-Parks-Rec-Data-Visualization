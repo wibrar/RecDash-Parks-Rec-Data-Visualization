{
 "cells": [
  {
   "cell_type": "markdown",
   "id": "bff02f86-4890-4be4-8934-a8ee6a9386d1",
   "metadata": {},
   "source": [
    "# <p style=\"text-align: center;\">COMP 4304 – Second Project</p>"
   ]
  },
  {
   "cell_type": "markdown",
   "id": "1faf3990-c16a-4868-9557-6d78b68519b1",
   "metadata": {},
   "source": [
    "## Team Members:\n",
    "- Wasif Ibrar (202149944)\n",
    "- Muhammad Mahad Mirza (202141537)"
   ]
  },
  {
   "cell_type": "markdown",
   "id": "3035e714-1a6f-41b6-86ef-496203734ce8",
   "metadata": {},
   "source": [
    "## Required imports"
   ]
  },
  {
   "cell_type": "code",
   "execution_count": 2,
   "id": "2f1e1092-3d9a-47f1-a1df-ad9977ba957b",
   "metadata": {},
   "outputs": [],
   "source": [
    "import pandas as pd\n",
    "import dash\n",
    "from dash import dcc, html\n",
    "from dash.dependencies import Input, Output\n",
    "import plotly.express as px\n",
    "import plotly.graph_objects as go"
   ]
  },
  {
   "cell_type": "markdown",
   "id": "d636fb6c-80e5-417f-9ba3-519ac0edd030",
   "metadata": {},
   "source": [
    "## Read the Dataset"
   ]
  },
  {
   "cell_type": "code",
   "execution_count": 3,
   "id": "32711fb3-8709-460a-baa5-3cdba2cc4b6d",
   "metadata": {},
   "outputs": [],
   "source": [
    "data =  pd.read_csv(\"open_gym.csv\")"
   ]
  },
  {
   "cell_type": "markdown",
   "id": "32ed6015-43a3-4243-9979-093338300434",
   "metadata": {},
   "source": [
    "## Data Manipulation and Pre-processing"
   ]
  },
  {
   "cell_type": "code",
   "execution_count": 4,
   "id": "9f97e3c6-1dfb-4e26-a8c4-361397f81db7",
   "metadata": {},
   "outputs": [],
   "source": [
    "data['open_gym_start'] = pd.to_datetime(data['open_gym_start'])\n",
    "data['open_gym_end'] = pd.to_datetime(data['open_gym_end'])"
   ]
  },
  {
   "cell_type": "markdown",
   "id": "e8e34cfd-aaac-4452-ae9f-4e74b4088c20",
   "metadata": {},
   "source": [
    "## Dashboard"
   ]
  },
  {
   "cell_type": "code",
   "execution_count": 9,
   "id": "2df91124-cdc0-4d76-8760-7b9725087bb1",
   "metadata": {},
   "outputs": [
    {
     "data": {
      "text/html": [
       "\n",
       "        <iframe\n",
       "            width=\"100%\"\n",
       "            height=\"650\"\n",
       "            src=\"http://127.0.0.1:8003/\"\n",
       "            frameborder=\"0\"\n",
       "            allowfullscreen\n",
       "            \n",
       "        ></iframe>\n",
       "        "
      ],
      "text/plain": [
       "<IPython.lib.display.IFrame at 0x1b53299bf50>"
      ]
     },
     "metadata": {},
     "output_type": "display_data"
    }
   ],
   "source": [
    "# Define color scales and palettes\n",
    "color_scale_activity = px.colors.qualitative.Pastel\n",
    "color_scale_gender = px.colors.qualitative.Light24\n",
    "\n",
    "# Initialize the Dash app with an external stylesheet for aesthetics\n",
    "app = dash.Dash(__name__, external_stylesheets=['https://codepen.io/chriddyp/pen/bWLwgP.css'])\n",
    "\n",
    "# Generate dropdown options for filtering activities and gender\n",
    "activity_options = [{'label': 'All Activities', 'value': 'All'}] + \\\n",
    "                   [{'label': activity, 'value': activity} for activity in data['open_gym_activity'].unique()]\n",
    "gender_options = [{'label': 'All', 'value': 'Both'},\n",
    "                  {'label': 'Male', 'value': 'total_males'},\n",
    "                  {'label': 'Female', 'value': 'total_females'}]\n",
    "\n",
    "# Define the app layout\n",
    "app.layout = html.Div([\n",
    "    html.H1(\"City's Parks and Recreation Dashboard\", style={'textAlign': 'center'}),\n",
    "    dcc.Tabs(id=\"tabs\", children=[\n",
    "        dcc.Tab(label='Activity Over Time', children=[\n",
    "            html.Div([\n",
    "                dcc.DatePickerRange(\n",
    "                    id='date-picker-range',\n",
    "                    start_date=data['open_gym_start'].min().date(),\n",
    "                    end_date=data['open_gym_start'].max().date(),\n",
    "                    min_date_allowed=data['open_gym_start'].min().date(),\n",
    "                    max_date_allowed=data['open_gym_start'].max().date()),\n",
    "                dcc.Dropdown(\n",
    "                    id='activity-dropdown',\n",
    "                    options=activity_options,\n",
    "                    value='All',\n",
    "                    clearable=False),\n",
    "                dcc.Graph(id='activity-over-time-graph')\n",
    "            ], style={'padding': '20px'})\n",
    "        ]),\n",
    "        dcc.Tab(label='Community Center Comparison', children=[\n",
    "            html.Div(dcc.Graph(id='community-center-comparison-graph'), style={'padding': '20px'})\n",
    "        ]),\n",
    "        dcc.Tab(label='Popularity Comparison', children=[\n",
    "            html.Div(dcc.Graph(id='popularity-comparison-graph'), style={'padding': '20px'})\n",
    "        ]),\n",
    "        dcc.Tab(label='Gender Distribution', children=[\n",
    "            html.Div([dcc.Dropdown(\n",
    "                    id='gender-dropdown',\n",
    "                    options=gender_options,\n",
    "                    value='Both',\n",
    "                    clearable=False),\n",
    "                     \n",
    "                dcc.Graph(id='gender-distribution-graph')], style={'padding': '20px'})\n",
    "        ])\n",
    "    ])\n",
    "])\n",
    "\n",
    "# Callback for the Activity Over Time graph\n",
    "@app.callback(\n",
    "    Output('activity-over-time-graph', 'figure'),\n",
    "    [Input('date-picker-range', 'start_date'),\n",
    "     Input('date-picker-range', 'end_date'),\n",
    "     Input('activity-dropdown', 'value')]\n",
    ")\n",
    "def update_activity_over_time(start_date, end_date, selected_activity):\n",
    "    filtered_data = data[(data['open_gym_start'] >= start_date) & (data['open_gym_end'] <= end_date)]\n",
    "    \n",
    "    if selected_activity != 'All':\n",
    "        # Filter for the selected activity\n",
    "        filtered_data = filtered_data[filtered_data['open_gym_activity'] == selected_activity]\n",
    "        # Here, we don't group by activity since we're only focusing on one activity.\n",
    "        # Instead, we group by the start date to aggregate counts per month.\n",
    "        filtered_data = filtered_data.groupby(pd.Grouper(key='open_gym_start', freq='M')).size().reset_index(name='total')\n",
    "        # Since there's only one activity, we manually set the activity column to reflect the selected activity for consistent plotting.\n",
    "        filtered_data['open_gym_activity'] = selected_activity\n",
    "    else:\n",
    "        # For \"All Activities\", group by both month and activity\n",
    "        filtered_data = filtered_data.groupby([pd.Grouper(key='open_gym_start', freq='M'), 'open_gym_activity']) \\\n",
    "                                     .size().reset_index(name='total')\n",
    "\n",
    "    title = f'Activity Over Time: {selected_activity if selected_activity != \"All\" else \"All Activities\"}'\n",
    "    fig = px.line(filtered_data, x='open_gym_start', y='total', color='open_gym_activity', title=title, color_discrete_sequence=color_scale_activity)\n",
    "    fig.update_layout(xaxis_title='Year', yaxis_title='Total Participants', xaxis=dict(tickformat='%Y'))\n",
    "    return fig\n",
    "\n",
    "# Callback for Community Center Comparison\n",
    "@app.callback(\n",
    "    Output('community-center-comparison-graph', 'figure'),\n",
    "    Input('tabs', 'value')\n",
    ")\n",
    "def update_community_center_comparison(_):\n",
    "    grouped_data = data.groupby(['facility_title', 'open_gym_activity']).size().reset_index(name='counts')\n",
    "    fig = px.bar(grouped_data, x='facility_title', y='counts', color='open_gym_activity', title='Community Center Comparison', barmode='stack', color_discrete_sequence=color_scale_activity)\n",
    "    return fig\n",
    "\n",
    "# Callback for Popularity Comparison\n",
    "@app.callback(\n",
    "    Output('popularity-comparison-graph', 'figure'),\n",
    "    Input('tabs', 'value')\n",
    ")\n",
    "def update_popularity_comparison(_):\n",
    "    grouped_data = data.groupby('open_gym_activity')['total'].sum().reset_index()\n",
    "    fig = px.pie(grouped_data, values='total', names='open_gym_activity', title='Popularity Comparison', color_discrete_sequence=color_scale_activity)\n",
    "    return fig\n",
    "\n",
    "# Callback for Gender Distribution\n",
    "@app.callback(\n",
    "    Output('gender-distribution-graph', 'figure'),\n",
    "    Input('gender-dropdown', 'value'),\n",
    ")\n",
    "def update_gender_distribution(selected_gender):\n",
    "    if selected_gender == 'Both':\n",
    "        gender_data = data.groupby('open_gym_activity')[['total_females', 'total_males']].sum().reset_index()\n",
    "        fig = go.Figure()\n",
    "        for gender, color in zip(['total_females', 'total_males'], color_scale_gender):\n",
    "            fig.add_trace(go.Scatterpolar(\n",
    "                r=gender_data[gender],\n",
    "                theta=gender_data['open_gym_activity'],\n",
    "                fill='toself',\n",
    "                name=gender.split('_')[1].capitalize(),\n",
    "                line=dict(color=color)\n",
    "            ))\n",
    "        fig.update_layout(\n",
    "            polar=dict(radialaxis=dict(visible=True)),\n",
    "            title='Gender Distribution by Activity'\n",
    "        )\n",
    "    elif selected_gender in ['total_males', 'total_females']:\n",
    "        gender_data = data.groupby('open_gym_activity')[selected_gender].sum().reset_index()\n",
    "        fig = go.Figure()\n",
    "        fig.add_trace(go.Scatterpolar(\n",
    "            r=gender_data[selected_gender],\n",
    "            theta=gender_data['open_gym_activity'],\n",
    "            fill='toself',\n",
    "            name=selected_gender.split('_')[1].capitalize(),\n",
    "            line=dict(color=color_scale_gender[1] if selected_gender == 'total_females' else color_scale_gender[0])\n",
    "        ))\n",
    "        fig.update_layout(\n",
    "            polar=dict(radialaxis=dict(visible=True)),\n",
    "            title=f'Gender Distribution by Activity - {selected_gender.split(\"_\")[1].capitalize()}'\n",
    "        )\n",
    "    else:\n",
    "        fig = go.Figure()\n",
    "        fig.update_layout(\n",
    "            polar=dict(radialaxis=dict(visible=True)),\n",
    "            title='Gender Distribution by Activity'\n",
    "        )\n",
    "\n",
    "    return fig\n",
    "\n",
    "if __name__ == '__main__':\n",
    "    app.run_server(debug=True, port=8003, use_reloader=False)\n"
   ]
  },
  {
   "cell_type": "markdown",
   "id": "f3631452-35b0-4ba4-bca3-50c860df5c4f",
   "metadata": {},
   "source": [
    "# Attributions"
   ]
  },
  {
   "cell_type": "markdown",
   "id": "2afa973d-5618-40eb-b4df-8b6c1b7c1e9b",
   "metadata": {},
   "source": [
    "- Dash Documentation: https://dash.plotly.com/\n",
    "- Colorscheme: https://stackoverflow.com/questions/60962274/plotly-how-to-change-the-colorscheme-of-a-plotly-express-scatterplot\n",
    "- Date Picker:\n",
    "    1. https://dash.plotly.com/dash-core-components/datepickerrange\n",
    "    2. https://stackoverflow.com/questions/69017021/dash-datepickerrange-with-graph\n",
    "- Drop Down: https://dash.plotly.com/dash-core-components/dropdown\n",
    "- CSS\n",
    "    1. https://dash.plotly.com/external-resources\n",
    "    2. https://codepen.io/chriddyp/pen/bWLwgP\n",
    "- Grouper for activity graph: https://pandas.pydata.org/docs/reference/api/pandas.Grouper.html\n",
    "- scatterplot: https://plotly.com/python/reference/scatterpolar/\n",
    "- Chat GPT for making the code more efficient and ideas for visualisations."
   ]
  }
 ],
 "metadata": {
  "kernelspec": {
   "display_name": "Python 3 (ipykernel)",
   "language": "python",
   "name": "python3"
  },
  "language_info": {
   "codemirror_mode": {
    "name": "ipython",
    "version": 3
   },
   "file_extension": ".py",
   "mimetype": "text/x-python",
   "name": "python",
   "nbconvert_exporter": "python",
   "pygments_lexer": "ipython3",
   "version": "3.11.5"
  }
 },
 "nbformat": 4,
 "nbformat_minor": 5
}
